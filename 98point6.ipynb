{
 "cells": [
  {
   "cell_type": "markdown",
   "metadata": {},
   "source": [
    "# 98point6 Data Science Homework"
   ]
  },
  {
   "cell_type": "markdown",
   "metadata": {},
   "source": [
    "## by Vinay Kumar Ranganath Babu"
   ]
  },
  {
   "cell_type": "markdown",
   "metadata": {},
   "source": [
    "### Technology used: Python\n",
    "### Libraries used: pandas,matplotlib,numpy,requests,json,csv\n",
    "### Visualizations: bar-plot"
   ]
  },
  {
   "cell_type": "markdown",
   "metadata": {},
   "source": [
    "  "
   ]
  },
  {
   "cell_type": "markdown",
   "metadata": {},
   "source": [
    " "
   ]
  },
  {
   "cell_type": "code",
   "execution_count": 1,
   "metadata": {
    "collapsed": false
   },
   "outputs": [],
   "source": [
    "# Importing the required libraries\n",
    "import pandas as pd\n",
    "import numpy as np\n",
    "import requests\n",
    "import json\n",
    "import csv\n",
    "import matplotlib.pyplot as plt\n",
    "%matplotlib inline"
   ]
  },
  {
   "cell_type": "code",
   "execution_count": 2,
   "metadata": {
    "collapsed": true
   },
   "outputs": [],
   "source": [
    "# Importing games data into pandas dataframe\n",
    "games = pd.read_csv(\"game_data.csv\")"
   ]
  },
  {
   "cell_type": "markdown",
   "metadata": {},
   "source": [
    "# Exploratory Data Analysis"
   ]
  },
  {
   "cell_type": "code",
   "execution_count": 3,
   "metadata": {
    "collapsed": false
   },
   "outputs": [
    {
     "data": {
      "text/html": [
       "<div>\n",
       "<table border=\"1\" class=\"dataframe\">\n",
       "  <thead>\n",
       "    <tr style=\"text-align: right;\">\n",
       "      <th></th>\n",
       "      <th>game_id</th>\n",
       "      <th>player_id</th>\n",
       "      <th>move_number</th>\n",
       "      <th>column</th>\n",
       "      <th>result</th>\n",
       "    </tr>\n",
       "  </thead>\n",
       "  <tbody>\n",
       "    <tr>\n",
       "      <th>0</th>\n",
       "      <td>0</td>\n",
       "      <td>2667</td>\n",
       "      <td>1</td>\n",
       "      <td>1</td>\n",
       "      <td>NaN</td>\n",
       "    </tr>\n",
       "    <tr>\n",
       "      <th>1</th>\n",
       "      <td>0</td>\n",
       "      <td>432</td>\n",
       "      <td>2</td>\n",
       "      <td>1</td>\n",
       "      <td>NaN</td>\n",
       "    </tr>\n",
       "    <tr>\n",
       "      <th>2</th>\n",
       "      <td>0</td>\n",
       "      <td>2667</td>\n",
       "      <td>3</td>\n",
       "      <td>2</td>\n",
       "      <td>NaN</td>\n",
       "    </tr>\n",
       "    <tr>\n",
       "      <th>3</th>\n",
       "      <td>0</td>\n",
       "      <td>432</td>\n",
       "      <td>4</td>\n",
       "      <td>2</td>\n",
       "      <td>NaN</td>\n",
       "    </tr>\n",
       "    <tr>\n",
       "      <th>4</th>\n",
       "      <td>0</td>\n",
       "      <td>2667</td>\n",
       "      <td>5</td>\n",
       "      <td>3</td>\n",
       "      <td>NaN</td>\n",
       "    </tr>\n",
       "  </tbody>\n",
       "</table>\n",
       "</div>"
      ],
      "text/plain": [
       "  game_id  player_id  move_number  column result\n",
       "0       0       2667            1       1    NaN\n",
       "1       0        432            2       1    NaN\n",
       "2       0       2667            3       2    NaN\n",
       "3       0        432            4       2    NaN\n",
       "4       0       2667            5       3    NaN"
      ]
     },
     "execution_count": 3,
     "metadata": {},
     "output_type": "execute_result"
    }
   ],
   "source": [
    "# First 5 rows of games data\n",
    "games.head()"
   ]
  },
  {
   "cell_type": "code",
   "execution_count": 4,
   "metadata": {
    "collapsed": false
   },
   "outputs": [
    {
     "name": "stdout",
     "output_type": "stream",
     "text": [
      "10000\n"
     ]
    }
   ],
   "source": [
    "# Total number of games played\n",
    "print(len(games['game_id'].unique()))"
   ]
  },
  {
   "cell_type": "markdown",
   "metadata": {},
   "source": [
    "We have the data of 10000 games which were played."
   ]
  },
  {
   "cell_type": "code",
   "execution_count": 5,
   "metadata": {
    "collapsed": false
   },
   "outputs": [
    {
     "name": "stdout",
     "output_type": "stream",
     "text": [
      "win     5296\n",
      "draw    4704\n",
      "Name: result, dtype: int64\n"
     ]
    }
   ],
   "source": [
    "# Wins vs Draws\n",
    "print(games['result'].value_counts())"
   ]
  },
  {
   "cell_type": "markdown",
   "metadata": {},
   "source": [
    "Out of 10000 games being played, number of wins are 5296 and 4704 were drawn. Win percentage = ~53%."
   ]
  },
  {
   "cell_type": "code",
   "execution_count": 6,
   "metadata": {
    "collapsed": false
   },
   "outputs": [
    {
     "name": "stdout",
     "output_type": "stream",
     "text": [
      "4896\n"
     ]
    }
   ],
   "source": [
    "# Total number of players\n",
    "print(len(games['player_id'].unique()))"
   ]
  },
  {
   "cell_type": "markdown",
   "metadata": {},
   "source": [
    "We have the data of 4896 different players who played these games."
   ]
  },
  {
   "cell_type": "markdown",
   "metadata": {},
   "source": [
    "# Feature Extarction"
   ]
  },
  {
   "cell_type": "code",
   "execution_count": 7,
   "metadata": {
    "collapsed": true
   },
   "outputs": [],
   "source": [
    "# Create a new csv file named 'players' in write mode\n",
    "f = csv.writer(open(\"players.csv\", \"wb+\"))\n",
    "f.writerow([\"player_id\", \"country\"])\n",
    "\n",
    "# Get the data using requests library in json format and write the data into csv file\n",
    "for i in range(0,524):\n",
    "    json_data = requests.get(\"https://x37sv76kth.execute-api.us-west-1.amazonaws.com/prod/users?page=\" + str(i))\n",
    "    data = json_data.json()\n",
    "    for entry in data:\n",
    "        f.writerow([entry['id'],entry['data']['nat']])"
   ]
  },
  {
   "cell_type": "code",
   "execution_count": 8,
   "metadata": {
    "collapsed": false
   },
   "outputs": [],
   "source": [
    "# Importing players data into pandas dataframe\n",
    "players = pd.read_csv(\"players.csv\")"
   ]
  },
  {
   "cell_type": "markdown",
   "metadata": {},
   "source": [
    "# Exploratory Data Analysis"
   ]
  },
  {
   "cell_type": "code",
   "execution_count": 9,
   "metadata": {
    "collapsed": false
   },
   "outputs": [
    {
     "data": {
      "text/html": [
       "<div>\n",
       "<table border=\"1\" class=\"dataframe\">\n",
       "  <thead>\n",
       "    <tr style=\"text-align: right;\">\n",
       "      <th></th>\n",
       "      <th>player_id</th>\n",
       "      <th>country</th>\n",
       "    </tr>\n",
       "  </thead>\n",
       "  <tbody>\n",
       "    <tr>\n",
       "      <th>0</th>\n",
       "      <td>0</td>\n",
       "      <td>IE</td>\n",
       "    </tr>\n",
       "    <tr>\n",
       "      <th>1</th>\n",
       "      <td>1</td>\n",
       "      <td>ES</td>\n",
       "    </tr>\n",
       "    <tr>\n",
       "      <th>2</th>\n",
       "      <td>2</td>\n",
       "      <td>GB</td>\n",
       "    </tr>\n",
       "    <tr>\n",
       "      <th>3</th>\n",
       "      <td>3</td>\n",
       "      <td>CH</td>\n",
       "    </tr>\n",
       "    <tr>\n",
       "      <th>4</th>\n",
       "      <td>4</td>\n",
       "      <td>TR</td>\n",
       "    </tr>\n",
       "  </tbody>\n",
       "</table>\n",
       "</div>"
      ],
      "text/plain": [
       "   player_id country\n",
       "0          0      IE\n",
       "1          1      ES\n",
       "2          2      GB\n",
       "3          3      CH\n",
       "4          4      TR"
      ]
     },
     "execution_count": 9,
     "metadata": {},
     "output_type": "execute_result"
    }
   ],
   "source": [
    "# First 5 rows of players data\n",
    "players.head()"
   ]
  },
  {
   "cell_type": "code",
   "execution_count": 10,
   "metadata": {
    "collapsed": false
   },
   "outputs": [
    {
     "name": "stdout",
     "output_type": "stream",
     "text": [
      "4672\n"
     ]
    }
   ],
   "source": [
    "# Number of players\n",
    "print(len(players['player_id'].unique()))"
   ]
  },
  {
   "cell_type": "markdown",
   "metadata": {},
   "source": [
    "We have a total of 4672 players information."
   ]
  },
  {
   "cell_type": "code",
   "execution_count": 11,
   "metadata": {
    "collapsed": false
   },
   "outputs": [
    {
     "name": "stdout",
     "output_type": "stream",
     "text": [
      "('Total number of countries:', 17)\n",
      "IE    336\n",
      "CH    329\n",
      "US    324\n",
      "TR    315\n",
      "CA    312\n",
      "NL    312\n",
      "ES    306\n",
      "FI    302\n",
      "FR    285\n",
      "AU    278\n",
      "DK    276\n",
      "NZ    269\n",
      "DE    264\n",
      "GB    259\n",
      "BR    254\n",
      "IR    251\n",
      "Name: country, dtype: int64\n"
     ]
    }
   ],
   "source": [
    "# Countries vs Players\n",
    "print(\"Total number of countries:\",len(players['country'].unique()))\n",
    "print(players['country'].value_counts())"
   ]
  },
  {
   "cell_type": "markdown",
   "metadata": {},
   "source": [
    "Hence the players data have 'Republic of Ireland' players the most and Iran players data the least."
   ]
  },
  {
   "cell_type": "markdown",
   "metadata": {},
   "source": [
    "# Question 1 - Out of all the games, what is the percentile rank of each column used as the first move in a game? That is, when the first player is choosing a column for their first move, which column most frequently leads to that player winning the game?"
   ]
  },
  {
   "cell_type": "code",
   "execution_count": 12,
   "metadata": {
    "collapsed": false
   },
   "outputs": [
    {
     "name": "stdout",
     "output_type": "stream",
     "text": [
      "4    794\n",
      "1    776\n",
      "2    656\n",
      "3    649\n",
      "Name: column, dtype: int64\n"
     ]
    }
   ],
   "source": [
    "# Merge 2 dataframes (move_number = 1 and result = win) on field game_id,player_id via inner join \n",
    "# and get different columns value counts\n",
    "wins = (games[games['move_number'] == 1]).merge((games[games['result'] == 'win'][['game_id','player_id','result']]),\n",
    "                                       on=['game_id','player_id'],\n",
    "                                       how='inner')['column'].value_counts()\n",
    "\n",
    "\n",
    "print(wins)"
   ]
  },
  {
   "cell_type": "code",
   "execution_count": 13,
   "metadata": {
    "collapsed": false
   },
   "outputs": [
    {
     "name": "stdout",
     "output_type": "stream",
     "text": [
      "[ 100.           66.66666667   33.33333333    0.        ]\n"
     ]
    }
   ],
   "source": [
    "percentiles = np.argsort(np.argsort(wins.values)) * 100. / (len(wins.values) - 1)\n",
    "print(percentiles)"
   ]
  },
  {
   "cell_type": "markdown",
   "metadata": {},
   "source": [
    "Hence column 4 has the majority wins when it is used as a first move during the game."
   ]
  },
  {
   "cell_type": "markdown",
   "metadata": {},
   "source": [
    "## Is there an advantage of making a first move to ensure victory?"
   ]
  },
  {
   "cell_type": "code",
   "execution_count": 14,
   "metadata": {
    "collapsed": false
   },
   "outputs": [
    {
     "name": "stdout",
     "output_type": "stream",
     "text": [
      "2875\n",
      "2421\n"
     ]
    }
   ],
   "source": [
    "df1 = (games[games['move_number'].isin([1,2])]).merge((games[games['result'].isin(['win','draw'])])[['game_id','player_id','result']],\n",
    "                                                      on=['game_id','player_id'],\n",
    "                                                      how='left')\n",
    "del df1['result_x']\n",
    "print(len(df1[(df1['result_y'] == 'win') & (df1['move_number'] == 1)]))\n",
    "print(len(df1[(df1['result_y'] == 'win') & (df1['move_number'] == 2)]))"
   ]
  },
  {
   "cell_type": "markdown",
   "metadata": {},
   "source": [
    "We observe that the wins are closest to each other. "
   ]
  },
  {
   "cell_type": "markdown",
   "metadata": {},
   "source": [
    "# Question 2 - How many games has each nationality of player played?"
   ]
  },
  {
   "cell_type": "code",
   "execution_count": 15,
   "metadata": {
    "collapsed": false
   },
   "outputs": [
    {
     "name": "stdout",
     "output_type": "stream",
     "text": [
      "IE    1420\n",
      "CH    1337\n",
      "US    1316\n",
      "TR    1272\n",
      "CA    1243\n",
      "ES    1222\n",
      "NL    1221\n",
      "FI    1209\n",
      "AU    1128\n",
      "DK    1113\n",
      "DE    1066\n",
      "FR    1048\n",
      "NZ    1047\n",
      "IR    1025\n",
      "GB    1016\n",
      "BR     992\n",
      "Name: country, dtype: int64\n"
     ]
    }
   ],
   "source": [
    "# Merge 2 dataframes (move_number = 1,2 and players) on field player_id via inner join \n",
    "# and get different countries value counts\n",
    "games_played = (games[games['move_number'].isin([1,2])]).merge(players,\n",
    "                                                    on='player_id',\n",
    "                                                    how='inner')['country'].value_counts()\n",
    "print(games_played)"
   ]
  },
  {
   "cell_type": "markdown",
   "metadata": {},
   "source": [
    "Hence players coming from Republic of Ireland have played the highest and Brazil players have played the lowest."
   ]
  },
  {
   "cell_type": "markdown",
   "metadata": {},
   "source": [
    "# Question 3 - Visualize the win percentage by country"
   ]
  },
  {
   "cell_type": "code",
   "execution_count": 16,
   "metadata": {
    "collapsed": false
   },
   "outputs": [],
   "source": [
    "# Merge 2 dataframes (result = win and players) on field player_id via inner join \n",
    "# and get different countries value counts\n",
    "wins = (games[games['result'] == 'win']).merge(players,\n",
    "                                      on='player_id',\n",
    "                                      how='inner')['country'].value_counts()"
   ]
  },
  {
   "cell_type": "code",
   "execution_count": 17,
   "metadata": {
    "collapsed": false
   },
   "outputs": [
    {
     "name": "stderr",
     "output_type": "stream",
     "text": [
      "/home/vinay/Enthought/Canopy_64bit/User/lib/python2.7/site-packages/ipykernel/__main__.py:7: FutureWarning: sort(columns=....) is deprecated, use sort_values(by=.....)\n"
     ]
    }
   ],
   "source": [
    "# Construct a dataframe with country names, their wins and the number of games they have played\n",
    "winper = pd.concat([pd.DataFrame(wins.sort_index().index),pd.DataFrame(wins.sort_index().values),pd.DataFrame(games_played.sort_index().values)],axis=1)\n",
    "winper.columns = ['country','wins','played']\n",
    "winper['win%'] = (winper['wins'] / winper['played']) * 100\n",
    "\n",
    "# Display the dataframe\n",
    "winper = winper.round(2).sort(['win%'])"
   ]
  },
  {
   "cell_type": "code",
   "execution_count": 18,
   "metadata": {
    "collapsed": false
   },
   "outputs": [
    {
     "data": {
      "image/png": "[encoded data removed]",
      "text/plain": [
       "<matplotlib.figure.Figure at 0x7f0af8ebf6d0>"
      ]
     },
     "metadata": {},
     "output_type": "display_data"
    }
   ],
   "source": [
    "# Bar-Plot of win percentages\n",
    "X = np.arange(len(winper['country']))\n",
    "X_ticks_labels = winper['country']\n",
    "Y = winper['win%']\n",
    "\n",
    "fig, ax = plt.subplots(figsize=(12, 6))\n",
    "ax.bar(X,Y,align='center',alpha=0.5)\n",
    "ax.set_xticks(X)\n",
    "ax.set_xticklabels(X_ticks_labels,rotation='vertical',fontsize=12)\n",
    "for p in ax.patches:\n",
    "    ax.annotate(str(p.get_height()), (p.get_x() * 1.005, p.get_height() * 1.005))\n",
    "plt.title(\"Win percentage by country\")\n",
    "plt.xlabel(\"Countries\")\n",
    "plt.ylabel(\"Win percentage\")\n",
    "plt.show()"
   ]
  },
  {
   "cell_type": "markdown",
   "metadata": {},
   "source": [
    "Switzerland have the highest win percentage with 27.9% and Denmark have the lowest with 24.89%."
   ]
  },
  {
   "cell_type": "markdown",
   "metadata": {},
   "source": [
    "# Question 4 - Does the entire game is determined by the first few moves?"
   ]
  },
  {
   "cell_type": "markdown",
   "metadata": {},
   "source": [
    "## Hypothesis: Compare first few moves pattern versus the whole game's moves pattern"
   ]
  },
  {
   "cell_type": "markdown",
   "metadata": {},
   "source": [
    "### First few moves patterns"
   ]
  },
  {
   "cell_type": "code",
   "execution_count": 19,
   "metadata": {
    "collapsed": false
   },
   "outputs": [
    {
     "data": {
      "text/html": [
       "<div>\n",
       "<table border=\"1\" class=\"dataframe\">\n",
       "  <thead>\n",
       "    <tr style=\"text-align: right;\">\n",
       "      <th></th>\n",
       "      <th>game_id</th>\n",
       "      <th>player_id</th>\n",
       "      <th>move_number_x</th>\n",
       "      <th>column</th>\n",
       "      <th>result_y</th>\n",
       "      <th>move_number_y</th>\n",
       "    </tr>\n",
       "  </thead>\n",
       "  <tbody>\n",
       "    <tr>\n",
       "      <th>0</th>\n",
       "      <td>0</td>\n",
       "      <td>2667</td>\n",
       "      <td>1</td>\n",
       "      <td>1</td>\n",
       "      <td>draw</td>\n",
       "      <td>16</td>\n",
       "    </tr>\n",
       "    <tr>\n",
       "      <th>1</th>\n",
       "      <td>0</td>\n",
       "      <td>432</td>\n",
       "      <td>2</td>\n",
       "      <td>1</td>\n",
       "      <td>draw</td>\n",
       "      <td>16</td>\n",
       "    </tr>\n",
       "    <tr>\n",
       "      <th>2</th>\n",
       "      <td>0</td>\n",
       "      <td>2667</td>\n",
       "      <td>3</td>\n",
       "      <td>2</td>\n",
       "      <td>draw</td>\n",
       "      <td>16</td>\n",
       "    </tr>\n",
       "    <tr>\n",
       "      <th>3</th>\n",
       "      <td>0</td>\n",
       "      <td>432</td>\n",
       "      <td>4</td>\n",
       "      <td>2</td>\n",
       "      <td>draw</td>\n",
       "      <td>16</td>\n",
       "    </tr>\n",
       "    <tr>\n",
       "      <th>4</th>\n",
       "      <td>0</td>\n",
       "      <td>2667</td>\n",
       "      <td>5</td>\n",
       "      <td>3</td>\n",
       "      <td>draw</td>\n",
       "      <td>16</td>\n",
       "    </tr>\n",
       "  </tbody>\n",
       "</table>\n",
       "</div>"
      ],
      "text/plain": [
       "  game_id  player_id  move_number_x  column result_y  move_number_y\n",
       "0       0       2667              1       1     draw             16\n",
       "1       0        432              2       1     draw             16\n",
       "2       0       2667              3       2     draw             16\n",
       "3       0        432              4       2     draw             16\n",
       "4       0       2667              5       3     draw             16"
      ]
     },
     "execution_count": 19,
     "metadata": {},
     "output_type": "execute_result"
    }
   ],
   "source": [
    "# Merge 2 dataframes (move number = 1-6 and result = draw,win) on field game_id via inner join \n",
    "df2 = games.merge(games[games['result'].isin(['draw','win'])][['game_id','result','move_number']],\n",
    "                                                                       on='game_id',\n",
    "                                                                       how='inner')\n",
    "del df2['result_x']\n",
    "df2.head()"
   ]
  },
  {
   "cell_type": "code",
   "execution_count": 20,
   "metadata": {
    "collapsed": false
   },
   "outputs": [
    {
     "data": {
      "text/html": [
       "<div>\n",
       "<table border=\"1\" class=\"dataframe\">\n",
       "  <thead>\n",
       "    <tr style=\"text-align: right;\">\n",
       "      <th></th>\n",
       "      <th>result</th>\n",
       "      <th>patterns</th>\n",
       "    </tr>\n",
       "  </thead>\n",
       "  <tbody>\n",
       "    <tr>\n",
       "      <th>0</th>\n",
       "      <td>win</td>\n",
       "      <td>[2, 1, 3, 3]</td>\n",
       "    </tr>\n",
       "    <tr>\n",
       "      <th>1</th>\n",
       "      <td>win</td>\n",
       "      <td>[4, 2, 2, 2, 1, 1]</td>\n",
       "    </tr>\n",
       "    <tr>\n",
       "      <th>2</th>\n",
       "      <td>draw</td>\n",
       "      <td>[1, 1, 2, 2, 3, 1]</td>\n",
       "    </tr>\n",
       "    <tr>\n",
       "      <th>3</th>\n",
       "      <td>draw</td>\n",
       "      <td>[2, 4, 4, 4, 4, 3]</td>\n",
       "    </tr>\n",
       "    <tr>\n",
       "      <th>4</th>\n",
       "      <td>win</td>\n",
       "      <td>[4, 1, 2, 1, 3]</td>\n",
       "    </tr>\n",
       "  </tbody>\n",
       "</table>\n",
       "</div>"
      ],
      "text/plain": [
       "  result            patterns\n",
       "0    win        [2, 1, 3, 3]\n",
       "1    win  [4, 2, 2, 2, 1, 1]\n",
       "2   draw  [1, 1, 2, 2, 3, 1]\n",
       "3   draw  [2, 4, 4, 4, 4, 3]\n",
       "4    win     [4, 1, 2, 1, 3]"
      ]
     },
     "execution_count": 20,
     "metadata": {},
     "output_type": "execute_result"
    }
   ],
   "source": [
    "df2['percentage'] = (df2['move_number_x'] / df2['move_number_y']) * 100\n",
    "\n",
    "first_few_moves = df2[df2['percentage'] <= 40.0]\n",
    "\n",
    "abc = first_few_moves.groupby(['game_id','result_y'])['column'].apply(list)\n",
    "\n",
    "dff = pd.concat([pd.DataFrame(abc.index.get_level_values('result_y')),pd.DataFrame(abc.values)],axis=1)\n",
    "\n",
    "# Column names for the dataframe df\n",
    "dff.columns = ['result','patterns']\n",
    "\n",
    "# First 5 rows of the dataframe\n",
    "dff.head()"
   ]
  },
  {
   "cell_type": "code",
   "execution_count": 21,
   "metadata": {
    "collapsed": true
   },
   "outputs": [],
   "source": [
    "# Function to convert list of numbers into sequence\n",
    "def list_to_str(lst):\n",
    "    ss = \"\"\n",
    "    for i in lst:\n",
    "        ss += str(i)\n",
    "    return ss  "
   ]
  },
  {
   "cell_type": "code",
   "execution_count": 22,
   "metadata": {
    "collapsed": false
   },
   "outputs": [
    {
     "data": {
      "text/plain": [
       "pattern\n",
       "11        [win, win, win, win, win, win, win, win, win, ...\n",
       "111                                                   [win]\n",
       "1111                         [win, win, win, win, win, win]\n",
       "11112                                                 [win]\n",
       "111122                                    [draw, win, draw]\n",
       "111123                                          [draw, win]\n",
       "111124                               [win, win, draw, draw]\n",
       "11113                                                 [win]\n",
       "111132                               [win, draw, win, draw]\n",
       "111133                                   [draw, draw, draw]\n",
       "111134                                          [win, draw]\n",
       "111142                              [draw, draw, win, draw]\n",
       "111143                   [draw, draw, win, win, draw, draw]\n",
       "111144                                    [draw, win, draw]\n",
       "1112               [win, win, win, win, win, win, win, win]\n",
       "111212                                               [draw]\n",
       "111213                                         [draw, draw]\n",
       "111214                                          [draw, win]\n",
       "111221                                         [draw, draw]\n",
       "111222                                    [draw, win, draw]\n",
       "111223                                                [win]\n",
       "111224                                               [draw]\n",
       "11123                                                 [win]\n",
       "111231                                    [draw, draw, win]\n",
       "111232                                               [draw]\n",
       "111234                                               [draw]\n",
       "111242                                          [draw, win]\n",
       "111243                               [win, draw, win, draw]\n",
       "111244                                               [draw]\n",
       "1113                                                  [win]\n",
       "                                ...                        \n",
       "444242                                    [draw, draw, win]\n",
       "4443                              [win, win, win, win, win]\n",
       "44431                                                 [win]\n",
       "444311                                         [draw, draw]\n",
       "444312                                                [win]\n",
       "444314                                                [win]\n",
       "44432                                       [win, win, win]\n",
       "444321                                          [win, draw]\n",
       "444323                                          [win, draw]\n",
       "444324                                               [draw]\n",
       "44433                                  [win, win, win, win]\n",
       "444331                                                [win]\n",
       "444332                                               [draw]\n",
       "444333                                           [win, win]\n",
       "444334                                               [draw]\n",
       "44434                                                 [win]\n",
       "444341                                         [draw, draw]\n",
       "444342                                    [draw, draw, win]\n",
       "4444                                             [win, win]\n",
       "444411                                           [win, win]\n",
       "444412                                    [draw, draw, win]\n",
       "444413                                   [draw, draw, draw]\n",
       "44442                                            [win, win]\n",
       "444421                        [draw, draw, draw, draw, win]\n",
       "444422                                         [draw, draw]\n",
       "444423                       [draw, draw, draw, draw, draw]\n",
       "44443                                       [win, win, win]\n",
       "444431                                               [draw]\n",
       "444432                                               [draw]\n",
       "444433                                    [win, draw, draw]\n",
       "Name: result, dtype: object"
      ]
     },
     "execution_count": 22,
     "metadata": {},
     "output_type": "execute_result"
    }
   ],
   "source": [
    "# Create a new column namd 'pattern' by applying the function list_to_str to every row in df\n",
    "dff['pattern'] = dff['patterns'].apply(list_to_str)\n",
    "\n",
    "# Delete the column 'patterns'\n",
    "del dff['patterns']\n",
    "\n",
    "# Create a Series grouping by the pattern and the corresponding result for that pattern\n",
    "dff.groupby('pattern')['result'].apply(list)"
   ]
  },
  {
   "cell_type": "markdown",
   "metadata": {},
   "source": [
    "We can clearly see from the above data that there is no fixed result matching the initial set of moves/patterns. For example if the initial 6 moves are '111143', then we observe the results of 6 games to be 'draw, draw, win, win, draw, draw'. This is the same case with the other patterns as well. Hence we do not have a concrete evidence that initial set of moves decide the results. However, let us dig deep by seeing the whole game's pattern."
   ]
  },
  {
   "cell_type": "code",
   "execution_count": 23,
   "metadata": {
    "collapsed": false
   },
   "outputs": [
    {
     "name": "stdout",
     "output_type": "stream",
     "text": [
      "1622\n",
      "16.22\n"
     ]
    }
   ],
   "source": [
    "# Number of unique patterns\n",
    "print(sum(dff['pattern'].value_counts() == 1))\n",
    "\n",
    "# Percentage of unique patterns\n",
    "print(sum(dff['pattern'].value_counts() == 1) / float(len(games['game_id'].unique())) * 100)"
   ]
  },
  {
   "cell_type": "markdown",
   "metadata": {},
   "source": [
    "~16% of the games are different from each other."
   ]
  },
  {
   "cell_type": "markdown",
   "metadata": {},
   "source": [
    "### Whole games patterns"
   ]
  },
  {
   "cell_type": "code",
   "execution_count": 24,
   "metadata": {
    "collapsed": false
   },
   "outputs": [
    {
     "data": {
      "text/plain": [
       "pattern\n",
       "111122242343334      [win]\n",
       "11112232334          [win]\n",
       "1111223323344442    [draw]\n",
       "1111224344432233    [draw]\n",
       "1111233322432444    [draw]\n",
       "111123422243334      [win]\n",
       "1111242223333444    [draw]\n",
       "1111242232333444    [draw]\n",
       "111124343434         [win]\n",
       "1111244243432323     [win]\n",
       "111124424423233      [win]\n",
       "11112444333232       [win]\n",
       "1111323334422442    [draw]\n",
       "1111323424332424     [win]\n",
       "1111323444422323    [draw]\n",
       "111132422334         [win]\n",
       "1111324444332322     [win]\n",
       "111133234            [win]\n",
       "111133243242         [win]\n",
       "1111333234444222    [draw]\n",
       "111133332422         [win]\n",
       "1111334243342224    [draw]\n",
       "1111334243442232    [draw]\n",
       "1111342222333444    [draw]\n",
       "11113423244332       [win]\n",
       "1111343223342424     [win]\n",
       "1111422322434334    [draw]\n",
       "1111423432232434    [draw]\n",
       "1111424222344333    [draw]\n",
       "1111424424223333     [win]\n",
       "                     ...  \n",
       "4444123233311212     [win]\n",
       "4444131112232233    [draw]\n",
       "4444131222112333    [draw]\n",
       "4444133332211221    [draw]\n",
       "4444211133221332    [draw]\n",
       "4444212112332133    [draw]\n",
       "4444212221313313    [draw]\n",
       "444421232133312      [win]\n",
       "4444212332113132    [draw]\n",
       "44442133311132       [win]\n",
       "444422113            [win]\n",
       "4444221332233111    [draw]\n",
       "4444222111233133    [draw]\n",
       "44442232231          [win]\n",
       "4444231222111333    [draw]\n",
       "4444231232211133    [draw]\n",
       "44442313111323       [win]\n",
       "4444232213233111    [draw]\n",
       "4444232223331111    [draw]\n",
       "4444233331221211    [draw]\n",
       "4444311332312212    [draw]\n",
       "4444321311123322    [draw]\n",
       "4444323131113        [win]\n",
       "444433112            [win]\n",
       "44443323321          [win]\n",
       "444433321123221      [win]\n",
       "4444333213111222    [draw]\n",
       "4444333231111222    [draw]\n",
       "44443332321221       [win]\n",
       "4444333322221        [win]\n",
       "Name: result, dtype: object"
      ]
     },
     "execution_count": 24,
     "metadata": {},
     "output_type": "execute_result"
    }
   ],
   "source": [
    "games_all_moves = games.merge(games[games['result'].isin(['draw','win'])][['game_id','result']],\n",
    "                                                                       on='game_id',\n",
    "                                                                       how='inner')\n",
    "\n",
    "# Construct a dataframe with 2 columns (result and pattern of first 6 moves)\n",
    "abc = games_all_moves.groupby(['game_id','result_y'])['column'].apply(list)\n",
    "df3 = pd.concat([pd.DataFrame(abc.index.get_level_values('result_y')),pd.DataFrame(abc.values)],axis=1)\n",
    "\n",
    "# Colum names for the dataframe df\n",
    "df3.columns = ['result','patterns']\n",
    "\n",
    "# Create a new column namd 'pattern' by applying the function list_to_str to every row in df\n",
    "df3['pattern'] = df3['patterns'].apply(list_to_str)\n",
    "\n",
    "# Delete the column 'patterns'\n",
    "del df3['patterns']\n",
    "\n",
    "# Create a Series grouping by the pattern and the corresponding result for that pattern\n",
    "df3.groupby('pattern')['result'].apply(list)"
   ]
  },
  {
   "cell_type": "code",
   "execution_count": 25,
   "metadata": {
    "collapsed": false
   },
   "outputs": [
    {
     "name": "stdout",
     "output_type": "stream",
     "text": [
      "9890\n",
      "98.9\n"
     ]
    }
   ],
   "source": [
    "# Number of unique patterns\n",
    "print(sum(df3['pattern'].value_counts() == 1))\n",
    "\n",
    "# Percentage of unique patterns\n",
    "print(sum(df3['pattern'].value_counts() == 1) / float(len(games['game_id'].unique())) * 100)"
   ]
  },
  {
   "cell_type": "markdown",
   "metadata": {},
   "source": [
    "* We can see from the first few patterns that the results are not the same (results are the combination of wins and draws).\n",
    "* A pattern for intial set of moves can have multiple same victories. However we cannot predict the result only with these as we can see that the result varies after all the moves are handled.\n",
    "* There are a total of 9890 unique patterns the way the game is played. This also gives us an indication that the result of the game is not just decided on the initial set of moves.\n",
    "* Hence ~99% of the games are different from each other (Have different pattern of moves). This is a strong conclusion that the initial set of moves do not decide on the game.\n",
    "* Initially when we considered first few moves (6 moves), we had good 91% of the games which were similar to each other in their moves patterns. It would be so easy to conclude with such a big number that the results could be predicted. However, when we saw the entire set of moves, this number decreased to just 1%!!!"
   ]
  },
  {
   "cell_type": "markdown",
   "metadata": {},
   "source": [
    "#### Tool"
   ]
  },
  {
   "cell_type": "code",
   "execution_count": 26,
   "metadata": {
    "collapsed": false
   },
   "outputs": [
    {
     "data": {
      "text/plain": [
       "7"
      ]
     },
     "execution_count": 26,
     "metadata": {},
     "output_type": "execute_result"
    }
   ],
   "source": [
    "# Calculate the sum of wins/draws according to the pattern\n",
    "sum((df3['pattern'].str.startswith(\"12233\")) & (df3['result'] == 'win'))"
   ]
  },
  {
   "cell_type": "code",
   "execution_count": 27,
   "metadata": {
    "collapsed": false
   },
   "outputs": [
    {
     "name": "stdout",
     "output_type": "stream",
     "text": [
      "('Number of wins when moves exceeding 10 moves:', 4631)\n",
      "('Number of draws when moves exceeding 10 moves:', 4704)\n",
      "('Number of wins when moves not exceeding 10 moves:', 665)\n",
      "('Number of draws when moves not exceeding 10 moves:', 0)\n"
     ]
    }
   ],
   "source": [
    "df4 = games[games['result'].isin(['draw','win'])]\n",
    "print(\"Number of wins when moves exceeding 10 moves:\", len(df4[(df4['move_number'] > 10) & (df4['result'] == 'win')]))\n",
    "print(\"Number of draws when moves exceeding 10 moves:\", len(df4[(df4['move_number'] > 10) & (df4['result'] == 'draw')]))\n",
    "print(\"Number of wins when moves not exceeding 10 moves:\", len(df4[(df4['move_number'] <= 10) & (df4['result'] == 'win')]))\n",
    "print(\"Number of draws when moves not exceeding 10 moves:\", len(df4[(df4['move_number'] <= 10) & (df4['result'] == 'draw')]))"
   ]
  }
 ],
 "metadata": {
  "kernelspec": {
   "display_name": "Python 2",
   "language": "python",
   "name": "python2"
  },
  "language_info": {
   "codemirror_mode": {
    "name": "ipython",
    "version": 2
   },
   "file_extension": ".py",
   "mimetype": "text/x-python",
   "name": "python",
   "nbconvert_exporter": "python",
   "pygments_lexer": "ipython2",
   "version": "2.7.11"
  }
 },
 "nbformat": 4,
 "nbformat_minor": 0
}
